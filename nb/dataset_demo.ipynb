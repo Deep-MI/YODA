{
 "cells": [
  {
   "cell_type": "code",
   "source": [
    "import os, sys\n",
    "while not os.getcwd().endswith('YODA'):\n",
    "    os.chdir('..')\n",
    "print(os.getcwd())\n",
    "\n",
    "from tqdm import tqdm\n",
    "import matplotlib.pyplot as plt\n",
    "import numpy as np\n",
    "\n",
    "from lib.datasets import get_datasets\n",
    "from lib.utils.visualization import vol_view"
   ],
   "metadata": {
    "collapsed": false
   },
   "id": "bf43d07239676a3",
   "outputs": [],
   "execution_count": null
  },
  {
   "cell_type": "markdown",
   "source": [
    "# 2D case"
   ],
   "metadata": {
    "collapsed": false
   },
   "id": "278f1959d25b947d"
  },
  {
   "cell_type": "code",
   "source": [
    "train, val = get_datasets(cache=None, subset_train=10, subset_val=1, crop_to_brain_margin=(5, 10, 20))\n",
    "for vol in tqdm(train):\n",
    "    plt.imshow(255 - vol[\"flair\"].squeeze(), cmap=\"gray\")\n",
    "    plt.show()"
   ],
   "metadata": {
    "collapsed": false
   },
   "id": "9bf5c7af11d0456e",
   "outputs": [],
   "execution_count": null
  },
  {
   "cell_type": "markdown",
   "source": [
    "# 3D case"
   ],
   "metadata": {
    "collapsed": false
   },
   "id": "84f0512766845e0c"
  },
  {
   "cell_type": "code",
   "source": [
    "train, val = get_datasets(cache=None, subset_train=100, subset_val=1, size=None, crop_to_brain_margin=(5, 10, 20))\n",
    "shapes = []\n",
    "for vol in tqdm(train):\n",
    "    # vol_view(vol[\"flair\"])\n",
    "    # plt.show()\n",
    "    shapes.append(vol[\"flair\"].shape)\n",
    "np.array(shapes)[:,1:].max(axis=0)  # 165 205 180"
   ],
   "metadata": {
    "collapsed": false
   },
   "id": "46ba3da0966bf895",
   "outputs": [],
   "execution_count": null
  },
  {
   "cell_type": "markdown",
   "source": [
    "# 3D case (uncropped)"
   ],
   "metadata": {
    "collapsed": false
   },
   "id": "c26ffd9b820e6a03"
  },
  {
   "cell_type": "code",
   "source": [
    "train, val = get_datasets(cache=None, subset_train=10, subset_val=1, size=(180, 180, 180), crop_to_brain_margin=(5, 10, 20))\n",
    "for vol in tqdm(train):\n",
    "    vol_view(vol[\"flair\"])\n",
    "    plt.show()"
   ],
   "metadata": {
    "collapsed": false
   },
   "id": "4f85f052742ac831",
   "outputs": [],
   "execution_count": null
  }
 ],
 "metadata": {
  "kernelspec": {
   "display_name": "Python 3",
   "language": "python",
   "name": "python3"
  },
  "language_info": {
   "codemirror_mode": {
    "name": "ipython",
    "version": 2
   },
   "file_extension": ".py",
   "mimetype": "text/x-python",
   "name": "python",
   "nbconvert_exporter": "python",
   "pygments_lexer": "ipython2",
   "version": "2.7.6"
  }
 },
 "nbformat": 4,
 "nbformat_minor": 5
}
