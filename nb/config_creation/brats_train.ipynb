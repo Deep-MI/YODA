{
 "cells": [
  {
   "cell_type": "code",
   "id": "initial_id",
   "metadata": {
    "collapsed": true
   },
   "source": [
    "import json\n",
    "import os\n",
    "from glob import glob\n",
    "import pandas as pd"
   ],
   "outputs": [],
   "execution_count": null
  },
  {
   "metadata": {},
   "cell_type": "code",
   "source": [
    "df = pd.read_csv(\"/path/to/BraTS23/BraTS2023_2017_GLI_Mapping.csv\")\n",
    "new = df.query(\"BraTS2020 != BraTS2020\")\n",
    "# sample 200 cases\n",
    "new = new.sample(200, random_state=42)\n",
    "new"
   ],
   "id": "a5032ec40bc35389",
   "outputs": [],
   "execution_count": null
  },
  {
   "metadata": {
    "ExecuteTime": {
     "end_time": "2024-09-30T07:18:56.042146Z",
     "start_time": "2024-09-30T07:18:55.067298Z"
    }
   },
   "cell_type": "code",
   "source": [
    "path = \"/path/to/BraTS23/conformed\"\n",
    "subjs= os.listdir(path)\n",
    "\n",
    "train, val = [] , []\n",
    "val_subjs = list(new.BraTS2023)\n",
    "\n",
    "for s in subjs:\n",
    "    \n",
    "    d = {\n",
    "        \"subject_ID\" : s,\n",
    "        \"flair\" : os.path.join(s, \"FLAIR.nii.gz\"),\n",
    "        \"t1\" : os.path.join(s, \"T1.nii.gz\"),\n",
    "        \"t1ce\" : os.path.join(s, \"t1gd.nii.gz\"),\n",
    "        \"t2\" : os.path.join(s, \"T2.nii.gz\"),\n",
    "        \"mask\" : os.path.join(s, \"mask.nii.gz\"),\n",
    "    }\n",
    "    \n",
    "    if s in val_subjs:\n",
    "        val.append(d)\n",
    "    else:\n",
    "        train.append(d)\n",
    "        \n",
    "files = {\"training\" : train, \"validation\" : val}    \n",
    "    \n",
    "# write to json\n",
    "output_file_path = \"../data/BraTS/brats23_train.json\"\n",
    "with open(output_file_path, \"w\") as f:\n",
    "    json.dump(files, f)\n",
    "print(len(files[\"validation\"]))"
   ],
   "id": "e0bdf27b78de3ab0",
   "outputs": [
    {
     "name": "stdout",
     "output_type": "stream",
     "text": [
      "200\n"
     ]
    }
   ],
   "execution_count": 52
  }
 ],
 "metadata": {
  "kernelspec": {
   "display_name": "Python 3",
   "language": "python",
   "name": "python3"
  },
  "language_info": {
   "codemirror_mode": {
    "name": "ipython",
    "version": 2
   },
   "file_extension": ".py",
   "mimetype": "text/x-python",
   "name": "python",
   "nbconvert_exporter": "python",
   "pygments_lexer": "ipython2",
   "version": "2.7.6"
  }
 },
 "nbformat": 4,
 "nbformat_minor": 5
}
