{
 "cells": [
  {
   "cell_type": "code",
   "id": "initial_id",
   "metadata": {
    "collapsed": true
   },
   "source": [
    "import nibabel as nib\n",
    "import numpy as np\n",
    "import os\n",
    "from glob import glob\n",
    "import matplotlib.pyplot as plt\n",
    "from tqdm import tqdm\n",
    "import sys\n",
    "while os.getcwd().split(\"/\")[-1] != \"YODA\":\n",
    "    os.chdir(\"..\")\n",
    "\n",
    "from skimage.filters import gaussian\n",
    "from skimage.filters import threshold_otsu\n",
    "from scipy.ndimage import binary_fill_holes\n",
    "    \n",
    "from YODA.preprocessing.register_images import conform"
   ],
   "outputs": [],
   "execution_count": null
  },
  {
   "metadata": {},
   "cell_type": "markdown",
   "source": "Preprocessing (conforming) the pre-registered Gold Atlas dataset",
   "id": "704f1b92fc0a5a75"
  },
  {
   "metadata": {},
   "cell_type": "code",
   "source": [
    "path = \"../data/gold_atlas/resampled\"\n",
    "target = \"../data/gold_atlas/conformed\""
   ],
   "id": "f90293e2214ee6ce",
   "outputs": [],
   "execution_count": null
  },
  {
   "metadata": {},
   "cell_type": "code",
   "source": [
    "for subj in os.listdir(path):\n",
    "    os.makedirs(os.path.join(target, subj), exist_ok=True)\n",
    "    conform(os.path.join(path, subj, \"t1.nii.gz\"), os.path.join(target, subj, \"t1.nii.gz\"))\n",
    "    conform(os.path.join(path, subj, \"t2.nii.gz\"), os.path.join(target, subj, \"t2.nii.gz\"))\n",
    "    img = nib.load(os.path.join(path, subj, \"ct.nii.gz\"))\n",
    "    data = img.get_fdata()\n",
    "    data -= np.percentile(data, 1)\n",
    "    data /= np.percentile(data, 99.9)\n",
    "    data = np.clip(data, 0, 1)\n",
    "    data *= 255.99\n",
    "    img = nib.Nifti1Image(data.astype(np.uint8), img.affine, img.header)\n",
    "    nib.save(img, os.path.join(target, subj, \"ct.nii.gz\"))\n",
    "    \n",
    "    # blur and threshold mask\n",
    "    mask_nii = nib.load(os.path.join(path, subj, \"t1.nii.gz\"))\n",
    "    mask = mask_nii.get_fdata()\n",
    "    mask = gaussian(mask, 5)\n",
    "    mask = (mask > threshold_otsu(mask)).astype(np.uint8)\n",
    "    for i in range(mask.shape[2]):\n",
    "        mask[..., i] = binary_fill_holes(mask[..., i])\n",
    "    \n",
    "    for s in [\"t1\", \"t2\", \"ct\"]:\n",
    "        # crop first and last 5 slices\n",
    "        img = nib.load(os.path.join(target, subj, f\"{s}.nii.gz\"))\n",
    "        data = img.get_fdata() * mask \n",
    "        img = nib.Nifti1Image(data, img.affine, img.header)\n",
    "        nib.save(img, os.path.join(target, subj, f\"{s}.nii.gz\"))\n",
    "    \n",
    "    mask[..., :5] *= 0\n",
    "    mask[... , -5:] *= 0\n",
    "    mask_nii = nib.Nifti1Image(mask, mask_nii.affine, mask_nii.header)\n",
    "    nib.save(mask_nii, os.path.join(target, subj, f\"mask.nii.gz\")) "
   ],
   "id": "1ea1484bf3c2445b",
   "outputs": [],
   "execution_count": null
  },
  {
   "metadata": {},
   "cell_type": "code",
   "source": [
    "import json\n",
    "test = [\"1_03_P\", \"1_06_P\", \"2_04_P\", \"2_11_P\"]\n",
    "\n",
    "train, val = [], []\n",
    "\n",
    "for subj in os.listdir(target):\n",
    "    if subj[0] == \"3\":\n",
    "        continue\n",
    "    d = {\n",
    "        \"t1\": os.path.join(subj, \"t1.nii.gz\"),\n",
    "        \"t2\": os.path.join(subj, \"t2.nii.gz\"),\n",
    "        \"ct\": os.path.join(subj, \"ct.nii.gz\"),\n",
    "        \"mask\": os.path.join(subj, \"mask.nii.gz\"),\n",
    "        \"subject_ID\": subj,\n",
    "    }\n",
    "    if subj in test:\n",
    "        val.append(d)\n",
    "    else:\n",
    "        train.append(d)\n",
    "        \n",
    "files = {\"training\" : train * 10, \"validation\" : val * 8}\n",
    "with open(\"../data/test_datasets/gold_atlas_train.json\", \"w\") as f:\n",
    "    json.dump(files, f)"
   ],
   "id": "c096d2a9651164ab",
   "outputs": [],
   "execution_count": null
  }
 ],
 "metadata": {
  "kernelspec": {
   "display_name": "Python 3",
   "language": "python",
   "name": "python3"
  },
  "language_info": {
   "codemirror_mode": {
    "name": "ipython",
    "version": 2
   },
   "file_extension": ".py",
   "mimetype": "text/x-python",
   "name": "python",
   "nbconvert_exporter": "python",
   "pygments_lexer": "ipython2",
   "version": "2.7.6"
  }
 },
 "nbformat": 4,
 "nbformat_minor": 5
}
